{
  "nbformat": 4,
  "nbformat_minor": 0,
  "metadata": {
    "colab": {
      "provenance": [],
      "include_colab_link": true
    },
    "kernelspec": {
      "name": "python3",
      "display_name": "Python 3"
    },
    "language_info": {
      "name": "python"
    }
  },
  "cells": [
    {
      "cell_type": "markdown",
      "metadata": {
        "id": "view-in-github",
        "colab_type": "text"
      },
      "source": [
        "<a href=\"https://colab.research.google.com/github/reized/MachineLearning/blob/main/main.ipynb\" target=\"_parent\"><img src=\"https://colab.research.google.com/assets/colab-badge.svg\" alt=\"Open In Colab\"/></a>"
      ]
    },
    {
      "cell_type": "code",
      "execution_count": null,
      "metadata": {
        "id": "_0x1QE8Ty0Qd",
        "colab": {
          "base_uri": "https://localhost:8080/"
        },
        "outputId": "640dda97-5a5a-4d71-8435-6892feeffde5"
      },
      "outputs": [
        {
          "output_type": "stream",
          "name": "stdout",
          "text": [
            "okokok\n"
          ]
        }
      ],
      "source": [
        "print(\"okokok\")"
      ]
    },
    {
      "cell_type": "code",
      "source": [
        "print(\"Menarik sekali\")"
      ],
      "metadata": {
        "id": "eUXe-fRvmVYY"
      },
      "execution_count": null,
      "outputs": []
    },
    {
      "cell_type": "code",
      "source": [
        "print(\"Posisi Fik\")"
      ],
      "metadata": {
        "id": "a-LH5BY4sW0b",
        "outputId": "196d2f10-0700-4cf8-a26c-831105ff206e",
        "colab": {
          "base_uri": "https://localhost:8080/"
        }
      },
      "execution_count": 1,
      "outputs": [
        {
          "output_type": "stream",
          "name": "stdout",
          "text": [
            "Posisi Fik\n"
          ]
        }
      ]
    }
  ]
}