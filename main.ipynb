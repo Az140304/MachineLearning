{
  "nbformat": 4,
  "nbformat_minor": 0,
  "metadata": {
    "colab": {
      "provenance": [],
      "include_colab_link": true
    },
    "kernelspec": {
      "name": "python3",
      "display_name": "Python 3"
    },
    "language_info": {
      "name": "python"
    }
  },
  "cells": [
    {
      "cell_type": "markdown",
      "metadata": {
        "id": "view-in-github",
        "colab_type": "text"
      },
      "source": [
        "<a href=\"https://colab.research.google.com/github/Az140304/MachineLearning/blob/main/main.ipynb\" target=\"_parent\"><img src=\"https://colab.research.google.com/assets/colab-badge.svg\" alt=\"Open In Colab\"/></a>"
      ]
    },
    {
      "cell_type": "code",
      "execution_count": null,
      "metadata": {
        "id": "_0x1QE8Ty0Qd",
        "colab": {
          "base_uri": "https://localhost:8080/"
        },
        "outputId": "640dda97-5a5a-4d71-8435-6892feeffde5"
      },
      "outputs": [
        {
          "output_type": "stream",
          "name": "stdout",
          "text": [
            "okokok\n"
          ]
        }
      ],
      "source": [
        "print(\"okokok\")"
      ]
    },
    {
      "cell_type": "code",
      "source": [
        "print(\"Menarik sekali\")"
      ],
      "metadata": {
        "id": "eUXe-fRvmVYY",
        "colab": {
          "base_uri": "https://localhost:8080/"
        },
        "outputId": "26a72db7-4f6c-4799-95b5-3dde5fe12c05"
      },
      "execution_count": null,
      "outputs": [
        {
          "output_type": "stream",
          "name": "stdout",
          "text": [
            "Menarik sekali\n"
          ]
        }
      ]
    },
    {
      "cell_type": "code",
      "source": [
        "print(\"andre test\")"
      ],
      "metadata": {
        "id": "ygT3wgCaitkx"
      },
      "execution_count": null,
      "outputs": []
    },
    {
      "cell_type": "code",
      "source": [
        "print(\"abc\")"
      ],
      "metadata": {
        "id": "VRLFIIkftGyI",
        "outputId": "6adeb4e6-73dc-4dfa-be2d-bfe01169a4e0",
        "colab": {
          "base_uri": "https://localhost:8080/"
        }
      },
      "execution_count": 3,
      "outputs": [
        {
          "output_type": "stream",
          "name": "stdout",
          "text": [
            "abc\n"
          ]
        }
      ]
    }
  ]
}