{
  "cells": [
    {
      "cell_type": "markdown",
      "metadata": {
        "colab_type": "text",
        "id": "view-in-github"
      },
      "source": [
        "<a href=\"https://colab.research.google.com/github/Az140304/MachineLearning/blob/main/main.ipynb\" target=\"_parent\"><img src=\"https://colab.research.google.com/assets/colab-badge.svg\" alt=\"Open In Colab\"/></a>"
      ]
    },
    {
      "cell_type": "code",
      "execution_count": null,
      "metadata": {
        "colab": {
          "base_uri": "https://localhost:8080/"
        },
        "id": "_0x1QE8Ty0Qd",
        "outputId": "640dda97-5a5a-4d71-8435-6892feeffde5"
      },
      "outputs": [
        {
          "name": "stdout",
          "output_type": "stream",
          "text": [
            "okokok\n"
          ]
        }
      ],
      "source": [
        "print(\"gg\")"
      ]
    },
    {
      "cell_type": "code",
      "execution_count": null,
      "metadata": {
        "colab": {
          "base_uri": "https://localhost:8080/"
        },
        "id": "eUXe-fRvmVYY",
        "outputId": "26a72db7-4f6c-4799-95b5-3dde5fe12c05"
      },
      "outputs": [
        {
          "name": "stdout",
          "output_type": "stream",
          "text": [
            "Menarik sekali\n"
          ]
        }
      ],
      "source": [
        "print(\"Menarik sekali\")"
      ]
    },
    {
      "cell_type": "code",
      "execution_count": null,
      "metadata": {
        "colab": {
          "base_uri": "https://localhost:8080/"
        },
        "id": "a-LH5BY4sW0b",
        "outputId": "196d2f10-0700-4cf8-a26c-831105ff206e"
      },
      "outputs": [],
      "source": [
        "print(\"andre test\")\n",
        "print(\"Posisi Fik\")"
      ]
    },
    {
      "cell_type": "code",
      "execution_count": 3,
      "metadata": {
        "colab": {
          "base_uri": "https://localhost:8080/"
        },
        "id": "VRLFIIkftGyI",
        "outputId": "6adeb4e6-73dc-4dfa-be2d-bfe01169a4e0"
      },
      "outputs": [
        {
          "name": "stdout",
          "output_type": "stream",
          "text": [
            "abc\n",
            "Posisi Fik\n"
          ]
        }
      ],
      "source": [
        "print(\"abc\")"
      ]
    }
  ],
  "metadata": {
    "colab": {
      "include_colab_link": true,
      "provenance": []
    },
    "kernelspec": {
      "display_name": "Python 3",
      "name": "python3"
    },
    "language_info": {
      "name": "python"
    }
  },
  "nbformat": 4,
  "nbformat_minor": 0
}
